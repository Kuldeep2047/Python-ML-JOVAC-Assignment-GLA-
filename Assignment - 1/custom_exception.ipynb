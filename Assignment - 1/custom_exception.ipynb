{
 "cells": [
  {
   "cell_type": "code",
   "execution_count": 1,
   "id": "9858d0f1-d504-46ad-b812-6d02e75243c3",
   "metadata": {},
   "outputs": [],
   "source": [
    "# TASK - 1"
   ]
  },
  {
   "cell_type": "code",
   "execution_count": 2,
   "id": "161240a1-1d8c-42fc-8e95-3f9878ad4a26",
   "metadata": {},
   "outputs": [],
   "source": [
    "class MyCustomError(Exception):\n",
    "    def __init__(self, message):\n",
    "        super().__init__(message)\n",
    "\n",
    "\n"
   ]
  },
  {
   "cell_type": "code",
   "execution_count": 4,
   "id": "cff0f726-52bc-4951-9dc6-bc5f6874d8f3",
   "metadata": {},
   "outputs": [],
   "source": [
    "def divide_numbers(a, b):\n",
    "    if b == 0:\n",
    "        raise MyCustomError(\"Division by zero is not allowed.\")\n",
    "    return a / b"
   ]
  },
  {
   "cell_type": "code",
   "execution_count": 5,
   "id": "cd3c6346-50da-4b24-9cae-827647f36803",
   "metadata": {},
   "outputs": [
    {
     "name": "stdout",
     "output_type": "stream",
     "text": [
      "Custom Exception Caught: Division by zero is not allowed.\n"
     ]
    }
   ],
   "source": [
    "try:\n",
    "    result = divide_numbers(10, 0)\n",
    "    print(\"Result:\", result)\n",
    "except MyCustomError as e:\n",
    "    print(\"Custom Exception Caught:\", e)"
   ]
  },
  {
   "cell_type": "code",
   "execution_count": null,
   "id": "9394bfba-4ae9-4fee-8fdd-d10206be7f3b",
   "metadata": {},
   "outputs": [],
   "source": []
  },
  {
   "cell_type": "code",
   "execution_count": 6,
   "id": "23cad726-4a04-4c69-b910-b16294891723",
   "metadata": {},
   "outputs": [],
   "source": [
    "# TASK - 2"
   ]
  },
  {
   "cell_type": "code",
   "execution_count": null,
   "id": "60d137f7-989c-44ec-978b-5877eeca39e7",
   "metadata": {},
   "outputs": [],
   "source": [
    "# 2D Array Read & Write CSV"
   ]
  },
  {
   "cell_type": "code",
   "execution_count": 7,
   "id": "096d3f84-ce76-43a5-8e0f-e4457bc1b083",
   "metadata": {},
   "outputs": [],
   "source": [
    "import numpy as np\n",
    "import csv"
   ]
  },
  {
   "cell_type": "code",
   "execution_count": 8,
   "id": "33b0c29a-904f-4cad-90eb-ef7b51ed0e15",
   "metadata": {},
   "outputs": [],
   "source": [
    "arr = np.array([[10, 20, 30],\n",
    "                [40, 50, 60],\n",
    "                [70, 80, 90]])"
   ]
  },
  {
   "cell_type": "code",
   "execution_count": 9,
   "id": "4b09001a-23b1-4faf-b593-5dc854ceb6f1",
   "metadata": {},
   "outputs": [
    {
     "name": "stdout",
     "output_type": "stream",
     "text": [
      "Array written to 'my_array.csv'\n"
     ]
    }
   ],
   "source": [
    "with open('my_array.csv', 'w', newline='') as f1:\n",
    "    writer = csv.writer(f1)\n",
    "    writer.writerows(arr)\n",
    "print(\"Array written to 'my_array.csv'\")"
   ]
  },
  {
   "cell_type": "code",
   "execution_count": 10,
   "id": "1b9ba69d-ffa9-4eb4-b47d-4b269acb9ae1",
   "metadata": {},
   "outputs": [],
   "source": [
    "# Read array back from CSV\n",
    "new_arr = []\n",
    "with open('my_array.csv', 'r') as f1:\n",
    "    reader = csv.reader(f1)\n",
    "    for row in reader:\n",
    "        new_arr.append([int(x) for x in row])\n"
   ]
  },
  {
   "cell_type": "code",
   "execution_count": 11,
   "id": "08eb3944-4dd5-40b7-8191-0708bbc75b0f",
   "metadata": {},
   "outputs": [
    {
     "name": "stdout",
     "output_type": "stream",
     "text": [
      "Array read from 'my_array.csv':\n",
      "[[10 20 30]\n",
      " [40 50 60]\n",
      " [70 80 90]]\n"
     ]
    }
   ],
   "source": [
    "new_arr = np.array(new_arr)\n",
    "print(\"Array read from 'my_array.csv':\")\n",
    "print(new_arr)"
   ]
  },
  {
   "cell_type": "code",
   "execution_count": null,
   "id": "e629658d-2b8c-4475-b865-4c5a9bf45761",
   "metadata": {},
   "outputs": [],
   "source": []
  },
  {
   "cell_type": "code",
   "execution_count": null,
   "id": "ea53c981-0426-48d0-a6a1-c21e100f0d87",
   "metadata": {},
   "outputs": [],
   "source": []
  }
 ],
 "metadata": {
  "kernelspec": {
   "display_name": "Python 3 (ipykernel)",
   "language": "python",
   "name": "python3"
  },
  "language_info": {
   "codemirror_mode": {
    "name": "ipython",
    "version": 3
   },
   "file_extension": ".py",
   "mimetype": "text/x-python",
   "name": "python",
   "nbconvert_exporter": "python",
   "pygments_lexer": "ipython3",
   "version": "3.13.5"
  }
 },
 "nbformat": 4,
 "nbformat_minor": 5
}
