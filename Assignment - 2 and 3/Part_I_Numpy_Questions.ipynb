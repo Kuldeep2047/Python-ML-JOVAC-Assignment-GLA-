{
 "cells": [
  {
   "cell_type": "code",
   "execution_count": 13,
   "id": "aa29a3a1-82f9-45fb-8a56-e5ea34c9a30c",
   "metadata": {},
   "outputs": [],
   "source": [
    "import numpy as np"
   ]
  },
  {
   "cell_type": "code",
   "execution_count": null,
   "id": "ede994af-63cd-4ca4-9752-b0133bd22b8c",
   "metadata": {},
   "outputs": [],
   "source": [
    "# TASK - 1"
   ]
  },
  {
   "cell_type": "code",
   "execution_count": 2,
   "id": "c6260f32-f0e5-4629-b422-d1861408557f",
   "metadata": {},
   "outputs": [
    {
     "name": "stdout",
     "output_type": "stream",
     "text": [
      "[ 1  2  3  4  5  6  7  8  9 10]\n"
     ]
    }
   ],
   "source": [
    "a1 = np.arange(1,11)\n",
    "print(a1)"
   ]
  },
  {
   "cell_type": "code",
   "execution_count": 10,
   "id": "b8314a65-9bfa-4ec0-9cd4-d2be1670be4b",
   "metadata": {},
   "outputs": [
    {
     "name": "stdout",
     "output_type": "stream",
     "text": [
      "(10,) 10 1\n"
     ]
    }
   ],
   "source": [
    "print(a1.shape , a1.size , a1.ndim)"
   ]
  },
  {
   "cell_type": "code",
   "execution_count": 4,
   "id": "7eb74975-b19b-48dd-a498-400fb40c1c00",
   "metadata": {},
   "outputs": [
    {
     "data": {
      "text/plain": [
       "array([[1, 2, 3],\n",
       "       [4, 5, 6],\n",
       "       [7, 8, 9]])"
      ]
     },
     "execution_count": 4,
     "metadata": {},
     "output_type": "execute_result"
    }
   ],
   "source": [
    "a2 = np.arange(1,10).reshape(3,3)\n",
    "a2"
   ]
  },
  {
   "cell_type": "code",
   "execution_count": 11,
   "id": "5be06760-58d7-4efc-924e-18d3b0763353",
   "metadata": {},
   "outputs": [
    {
     "name": "stdout",
     "output_type": "stream",
     "text": [
      "(3, 3) 9 2\n"
     ]
    }
   ],
   "source": [
    "print(a2.shape , a2.size , a2.ndim)"
   ]
  },
  {
   "cell_type": "code",
   "execution_count": 5,
   "id": "f6d57df5-9706-4fef-9c0b-ef5b98e2321a",
   "metadata": {},
   "outputs": [
    {
     "name": "stdout",
     "output_type": "stream",
     "text": [
      "[[1 2 3]\n",
      " [4 5 6]\n",
      " [7 8 9]]\n"
     ]
    }
   ],
   "source": [
    "print(a2)"
   ]
  },
  {
   "cell_type": "code",
   "execution_count": 6,
   "id": "2f660b63-2bad-4004-8279-6a782e17d28b",
   "metadata": {},
   "outputs": [],
   "source": [
    "a3 = np.random.rand(3,5,3)"
   ]
  },
  {
   "cell_type": "code",
   "execution_count": 7,
   "id": "fcd308d9-1d2f-470a-947e-88b3e94dbc48",
   "metadata": {},
   "outputs": [
    {
     "data": {
      "text/plain": [
       "array([[[0.49258403, 0.11665126, 0.1860171 ],\n",
       "        [0.65084793, 0.47015495, 0.02876611],\n",
       "        [0.67133618, 0.10289254, 0.31979791],\n",
       "        [0.77787615, 0.36808942, 0.53310628],\n",
       "        [0.19377739, 0.16155087, 0.48512797]],\n",
       "\n",
       "       [[0.74017088, 0.13883849, 0.33105121],\n",
       "        [0.23969051, 0.48762994, 0.42453853],\n",
       "        [0.09734644, 0.26408729, 0.59673012],\n",
       "        [0.87111451, 0.71037529, 0.68321166],\n",
       "        [0.51213994, 0.86421748, 0.34485938]],\n",
       "\n",
       "       [[0.48170024, 0.0372974 , 0.15868942],\n",
       "        [0.72695092, 0.07477535, 0.14446671],\n",
       "        [0.56828692, 0.51658653, 0.06910582],\n",
       "        [0.11298429, 0.57231767, 0.43256019],\n",
       "        [0.72576915, 0.24079303, 0.2199064 ]]])"
      ]
     },
     "execution_count": 7,
     "metadata": {},
     "output_type": "execute_result"
    }
   ],
   "source": [
    "a3\n"
   ]
  },
  {
   "cell_type": "code",
   "execution_count": 12,
   "id": "939dac9e-e8fb-4304-8d82-eae0fc77b485",
   "metadata": {},
   "outputs": [
    {
     "name": "stdout",
     "output_type": "stream",
     "text": [
      "(3, 5, 3) 45 3\n"
     ]
    }
   ],
   "source": [
    "print(a3.shape , a3.size , a3.ndim)"
   ]
  },
  {
   "cell_type": "code",
   "execution_count": null,
   "id": "68dfcf97-67f8-416e-9492-2aa675207fda",
   "metadata": {},
   "outputs": [],
   "source": []
  },
  {
   "cell_type": "code",
   "execution_count": 14,
   "id": "3ec90fef-1f04-4eaa-bcfd-9cc4a5806733",
   "metadata": {},
   "outputs": [],
   "source": [
    "# TASK - 2\n"
   ]
  },
  {
   "cell_type": "code",
   "execution_count": 18,
   "id": "f61b405d-4e84-40c0-a943-7a2b2da5c809",
   "metadata": {},
   "outputs": [],
   "source": [
    "data = [10, 20, 30, 40, 50, 60, 70, 80, 90]\n",
    "arr = np.array(data)\n",
    "# print(arr)"
   ]
  },
  {
   "cell_type": "code",
   "execution_count": 17,
   "id": "973100a3-8ec4-4386-a1f5-53935bb5ea41",
   "metadata": {},
   "outputs": [
    {
     "data": {
      "text/plain": [
       "array([10, 20, 30, 40, 50, 60, 70, 80, 90])"
      ]
     },
     "execution_count": 17,
     "metadata": {},
     "output_type": "execute_result"
    }
   ],
   "source": [
    "arr"
   ]
  },
  {
   "cell_type": "code",
   "execution_count": 19,
   "id": "b8c970f5-b21c-4191-b5d5-dcfd2f4ac80b",
   "metadata": {},
   "outputs": [
    {
     "data": {
      "text/plain": [
       "array([10, 20, 30])"
      ]
     },
     "execution_count": 19,
     "metadata": {},
     "output_type": "execute_result"
    }
   ],
   "source": [
    "first3 = arr[:3]\n",
    "first3"
   ]
  },
  {
   "cell_type": "code",
   "execution_count": 21,
   "id": "6a84856d-39f6-497a-9948-12731c7103cf",
   "metadata": {},
   "outputs": [
    {
     "data": {
      "text/plain": [
       "array([10, 30, 50, 70, 90])"
      ]
     },
     "execution_count": 21,
     "metadata": {},
     "output_type": "execute_result"
    }
   ],
   "source": [
    "alt = arr[: :2]\n",
    "alt"
   ]
  },
  {
   "cell_type": "code",
   "execution_count": 24,
   "id": "a6a01608-07d5-4fba-9a73-811136c896e8",
   "metadata": {},
   "outputs": [
    {
     "data": {
      "text/plain": [
       "array([90, 80, 70, 60, 50, 40, 30, 20, 10])"
      ]
     },
     "execution_count": 24,
     "metadata": {},
     "output_type": "execute_result"
    }
   ],
   "source": [
    "rev = arr[: : -1]\n",
    "rev"
   ]
  },
  {
   "cell_type": "code",
   "execution_count": null,
   "id": "a50a1cd4-2a17-41c2-8f4e-6281234e7604",
   "metadata": {},
   "outputs": [],
   "source": []
  },
  {
   "cell_type": "code",
   "execution_count": 25,
   "id": "71ee04b3-9125-4a63-b129-1c3b6eeea4a7",
   "metadata": {},
   "outputs": [],
   "source": [
    "# TASK - 3"
   ]
  },
  {
   "cell_type": "code",
   "execution_count": null,
   "id": "b39d23fe-be4b-47a2-8f5d-a6783edd10e5",
   "metadata": {},
   "outputs": [],
   "source": []
  },
  {
   "cell_type": "code",
   "execution_count": 26,
   "id": "38783f06-f3ee-48d1-9faf-cbb2dd6f4a25",
   "metadata": {},
   "outputs": [],
   "source": [
    "A = np.random.randint(1, 21, size=5)\n",
    "B = np.random.randint(1, 21, size=5)"
   ]
  },
  {
   "cell_type": "code",
   "execution_count": 30,
   "id": "7242fea1-9260-49d0-bef2-0e19341ab325",
   "metadata": {},
   "outputs": [
    {
     "name": "stdout",
     "output_type": "stream",
     "text": [
      "[15  1  7  3  5]\n",
      "[ 3 11 18 14 19]\n"
     ]
    }
   ],
   "source": [
    "print(A)\n",
    "print(B)"
   ]
  },
  {
   "cell_type": "code",
   "execution_count": 31,
   "id": "41783851-f204-4339-aca0-6b123512507a",
   "metadata": {},
   "outputs": [
    {
     "name": "stdout",
     "output_type": "stream",
     "text": [
      "Addition :  [18 12 25 17 24]\n"
     ]
    }
   ],
   "source": [
    "print('Addition : ',A+B)"
   ]
  },
  {
   "cell_type": "code",
   "execution_count": 32,
   "id": "ea07336d-9731-47c2-9602-081089e70a00",
   "metadata": {},
   "outputs": [
    {
     "name": "stdout",
     "output_type": "stream",
     "text": [
      "Subtraction :  [ 12 -10 -11 -11 -14]\n",
      "Multiply :  [ 45  11 126  42  95]\n",
      "Divide : [5.         0.09090909 0.38888889 0.21428571 0.26315789]\n"
     ]
    }
   ],
   "source": [
    "print('Subtraction : ',A-B)\n",
    "print('Multiply : ',A*B)\n",
    "print('Divide :',A/B)"
   ]
  },
  {
   "cell_type": "code",
   "execution_count": 36,
   "id": "3cf2548c-d0fc-4f28-99ed-f4d0a4c10930",
   "metadata": {},
   "outputs": [
    {
     "name": "stdout",
     "output_type": "stream",
     "text": [
      "Dot Product =  319\n"
     ]
    }
   ],
   "source": [
    "dot = np.dot(A,B)\n",
    "print(\"Dot Product = \",dot)"
   ]
  },
  {
   "cell_type": "code",
   "execution_count": 37,
   "id": "f8dd4f53-4c0b-40ec-8d57-46c8864c23cb",
   "metadata": {},
   "outputs": [
    {
     "name": "stdout",
     "output_type": "stream",
     "text": [
      "Mean: 6.2\n",
      "Median: 5.0\n",
      "Standard Deviation: 4.833218389437829\n",
      "Variance: 23.360000000000003\n"
     ]
    }
   ],
   "source": [
    "print(\"Mean:\", np.mean(A))\n",
    "print(\"Median:\", np.median(A))\n",
    "print(\"Standard Deviation:\", np.std(A))\n",
    "print(\"Variance:\", np.var(A))"
   ]
  },
  {
   "cell_type": "code",
   "execution_count": 38,
   "id": "7aa722d0-ad83-46f8-b5ac-9ac56a68e5b9",
   "metadata": {},
   "outputs": [],
   "source": [
    "max_val = np.max(B)\n",
    "min_val = np.min(B)\n",
    "max_idx = np.argmax(B)\n",
    "min_idx = np.argmin(B)"
   ]
  },
  {
   "cell_type": "code",
   "execution_count": 40,
   "id": "e4732c6c-cec3-48f4-8556-922eafbe63c5",
   "metadata": {},
   "outputs": [
    {
     "name": "stdout",
     "output_type": "stream",
     "text": [
      "Maximum Value: 19 | Index: 4\n",
      "Minimum Value: 3 | Index: 0\n"
     ]
    }
   ],
   "source": [
    "print(\"Maximum Value:\", max_val, \"| Index:\", max_idx)\n",
    "print(\"Minimum Value:\", min_val, \"| Index:\", min_idx)"
   ]
  },
  {
   "cell_type": "code",
   "execution_count": null,
   "id": "98bfe39f-ae6c-4b83-8c61-c9478422d553",
   "metadata": {},
   "outputs": [],
   "source": []
  },
  {
   "cell_type": "code",
   "execution_count": 41,
   "id": "7bdb8039-c63f-407e-9e26-4249183f3aef",
   "metadata": {},
   "outputs": [],
   "source": [
    "# TASK - 4"
   ]
  },
  {
   "cell_type": "code",
   "execution_count": 42,
   "id": "6f8ffb8f-f23c-4591-8953-919947eb28f7",
   "metadata": {},
   "outputs": [
    {
     "data": {
      "text/plain": [
       "array([ 1,  2,  3,  4,  5,  6,  7,  8,  9, 10, 11, 12])"
      ]
     },
     "execution_count": 42,
     "metadata": {},
     "output_type": "execute_result"
    }
   ],
   "source": [
    "array = np.arange(1,13)\n",
    "array"
   ]
  },
  {
   "cell_type": "code",
   "execution_count": 44,
   "id": "cc5ae383-cdd7-45fe-bcc4-4f46fb42344e",
   "metadata": {},
   "outputs": [
    {
     "data": {
      "text/plain": [
       "array([[ 1,  2,  3],\n",
       "       [ 4,  5,  6],\n",
       "       [ 7,  8,  9],\n",
       "       [10, 11, 12]])"
      ]
     },
     "execution_count": 44,
     "metadata": {},
     "output_type": "execute_result"
    }
   ],
   "source": [
    "array_2d = array.reshape(4, 3)\n",
    "array_2d"
   ]
  },
  {
   "cell_type": "code",
   "execution_count": 45,
   "id": "0c398512-31d2-48f7-af93-4d3410fa1bad",
   "metadata": {},
   "outputs": [
    {
     "data": {
      "text/plain": [
       "array([[[ 1,  2,  3],\n",
       "        [ 4,  5,  6]],\n",
       "\n",
       "       [[ 7,  8,  9],\n",
       "        [10, 11, 12]]])"
      ]
     },
     "execution_count": 45,
     "metadata": {},
     "output_type": "execute_result"
    }
   ],
   "source": [
    "array_3d = array.reshape(2, 2, 3)\n",
    "array_3d"
   ]
  },
  {
   "cell_type": "code",
   "execution_count": 49,
   "id": "378110f3-c2c2-4d8c-9bd2-6b73b1db77d2",
   "metadata": {},
   "outputs": [
    {
     "name": "stdout",
     "output_type": "stream",
     "text": [
      "Transpose of 2d array :  [[ 1  4  7 10]\n",
      " [ 2  5  8 11]\n",
      " [ 3  6  9 12]]\n",
      "Shape (3, 4)\n"
     ]
    }
   ],
   "source": [
    "transposed_2d = array_2d.T\n",
    "print(\"Transpose of 2d array : \",transposed_2d)\n",
    "print(\"Shape\", transposed_2d.shape)"
   ]
  },
  {
   "cell_type": "code",
   "execution_count": null,
   "id": "72b422a3-6cad-41ea-849b-74ee05f2130f",
   "metadata": {},
   "outputs": [],
   "source": []
  },
  {
   "cell_type": "code",
   "execution_count": 50,
   "id": "aca963eb-5dec-483d-b011-9677b2b610c3",
   "metadata": {},
   "outputs": [],
   "source": [
    "# TASK - 5"
   ]
  },
  {
   "cell_type": "code",
   "execution_count": 53,
   "id": "83181452-8d0d-407c-89db-05450fe288e8",
   "metadata": {},
   "outputs": [
    {
     "data": {
      "text/plain": [
       "array([16, 28, 28, 23, 44, 33, 40, 40, 35, 25, 22, 49, 29, 21, 10],\n",
       "      dtype=int32)"
      ]
     },
     "execution_count": 53,
     "metadata": {},
     "output_type": "execute_result"
    }
   ],
   "source": [
    "array = np.random.randint(10, 51, size=15)\n",
    "array"
   ]
  },
  {
   "cell_type": "code",
   "execution_count": 55,
   "id": "5f073746-acca-49be-a354-d3450291dda5",
   "metadata": {},
   "outputs": [
    {
     "name": "stdout",
     "output_type": "stream",
     "text": [
      "Greater then 25 : [28 28 44 33 40 40 35 49 29]\n"
     ]
    }
   ],
   "source": [
    "gt = array[array >25]\n",
    "print(\"Greater then 25 :\",gt)"
   ]
  },
  {
   "cell_type": "code",
   "execution_count": 57,
   "id": "e6a1f76d-ba9e-464a-ae17-b05893620612",
   "metadata": {},
   "outputs": [
    {
     "name": "stdout",
     "output_type": "stream",
     "text": [
      "Modified array [ 0  0  0  0 44 33 40 40 35  0  0 49  0  0  0]\n"
     ]
    }
   ],
   "source": [
    "mod = np.where(array<30,0,array)\n",
    "print(\"Modified array\",mod)"
   ]
  },
  {
   "cell_type": "code",
   "execution_count": 60,
   "id": "c5193023-1788-4363-8d02-044c1850cbc1",
   "metadata": {},
   "outputs": [
    {
     "name": "stdout",
     "output_type": "stream",
     "text": [
      "Number of elements divisible by 5: 5\n"
     ]
    }
   ],
   "source": [
    "div = np.sum(array%5==0)\n",
    "print(\"Number of elements divisible by 5:\",div)"
   ]
  },
  {
   "cell_type": "code",
   "execution_count": null,
   "id": "206b0040-b738-4142-bb69-b2eb4c5381c7",
   "metadata": {},
   "outputs": [],
   "source": []
  },
  {
   "cell_type": "code",
   "execution_count": 61,
   "id": "148a1cdb-32bc-4645-a98d-fc602c4e8e11",
   "metadata": {},
   "outputs": [],
   "source": [
    "# TASK - 6"
   ]
  },
  {
   "cell_type": "code",
   "execution_count": 62,
   "id": "61e795ce-b0d3-49b1-9fe9-a377a3f9981a",
   "metadata": {},
   "outputs": [
    {
     "name": "stdout",
     "output_type": "stream",
     "text": [
      "10 equally spaced values between 0 and 1 : [0.         0.11111111 0.22222222 0.33333333 0.44444444 0.55555556\n",
      " 0.66666667 0.77777778 0.88888889 1.        ]\n"
     ]
    }
   ],
   "source": [
    "eq_spaced = np.linspace(0, 1, 10)\n",
    "print(\"10 equally spaced values between 0 and 1 :\", eq_spaced)"
   ]
  },
  {
   "cell_type": "code",
   "execution_count": 64,
   "id": "531853a4-f0fc-48d1-beeb-60ed8367f15f",
   "metadata": {},
   "outputs": [
    {
     "name": "stdout",
     "output_type": "stream",
     "text": [
      "Identity matrix (4x4) : [[1. 0. 0. 0.]\n",
      " [0. 1. 0. 0.]\n",
      " [0. 0. 1. 0.]\n",
      " [0. 0. 0. 1.]]\n"
     ]
    }
   ],
   "source": [
    "id_matrix = np.eye(4)\n",
    "print(\"Identity matrix (4x4) :\", id_matrix)"
   ]
  },
  {
   "cell_type": "code",
   "execution_count": 65,
   "id": "073a4407-cd12-4bd1-89f6-433664e785fd",
   "metadata": {},
   "outputs": [
    {
     "name": "stdout",
     "output_type": "stream",
     "text": [
      "Original Random Array : [39 37 29 29 27 46 20 55 30 60 29 85 18 46 46 27 75 89 40 66]\n"
     ]
    }
   ],
   "source": [
    "ran_array = np.random.randint(1, 101, size=20)\n",
    "print(\"Original Random Array :\", ran_array)"
   ]
  },
  {
   "cell_type": "code",
   "execution_count": 70,
   "id": "9ac97b87-7499-4788-b078-f84f39f5759c",
   "metadata": {},
   "outputs": [
    {
     "name": "stdout",
     "output_type": "stream",
     "text": [
      "5 Largest Elements: [60 66 75 85 89]\n"
     ]
    }
   ],
   "source": [
    "sorted = np.sort(ran_array)\n",
    "five_large = sorted[-5:]\n",
    "print(\"5 Largest Elements:\", five_large)"
   ]
  },
  {
   "cell_type": "code",
   "execution_count": null,
   "id": "71834f2d-a153-4acc-829d-fbcb780924b8",
   "metadata": {},
   "outputs": [],
   "source": []
  },
  {
   "cell_type": "code",
   "execution_count": 71,
   "id": "4bba1879-5406-4b51-bf29-a2eee50ff520",
   "metadata": {},
   "outputs": [],
   "source": [
    "# TASK - 7"
   ]
  },
  {
   "cell_type": "code",
   "execution_count": 77,
   "id": "cb131c20-b944-4480-9416-7de7f1980cbe",
   "metadata": {},
   "outputs": [],
   "source": [
    "import time"
   ]
  },
  {
   "cell_type": "code",
   "execution_count": 78,
   "id": "a3cd9d72-e81d-4fc7-8575-041277db8e80",
   "metadata": {},
   "outputs": [],
   "source": [
    "A = np.random.rand(100, 100)\n",
    "B = np.random.rand(100, 100)\n"
   ]
  },
  {
   "cell_type": "code",
   "execution_count": 80,
   "id": "3de20bfe-373e-41c7-bb6f-4bc3a19cf8fd",
   "metadata": {},
   "outputs": [
    {
     "name": "stdout",
     "output_type": "stream",
     "text": [
      "Matrix multiplication completed in 0.0006 seconds.\n",
      "[[22.73594806 25.58799348 26.01668752 ... 24.45266501 25.478522\n",
      "  24.43117576]\n",
      " [21.39294131 24.43598041 26.23093013 ... 26.55499685 24.28888041\n",
      "  23.73561186]\n",
      " [22.46633313 26.54827413 26.49259151 ... 26.21940125 26.647047\n",
      "  25.61675966]\n",
      " ...\n",
      " [22.22398251 28.68303197 28.55155233 ... 28.89329997 31.22542423\n",
      "  28.60346268]\n",
      " [23.67414543 27.60605213 28.4675726  ... 28.69818083 28.58250133\n",
      "  26.25895178]\n",
      " [21.73139544 26.67739771 25.76726205 ... 24.47122655 27.56711621\n",
      "  24.6683093 ]]\n"
     ]
    }
   ],
   "source": [
    "start_time = time.time()\n",
    "C = np.dot(A, B)\n",
    "mult_time = time.time() - start_time\n",
    "print(\"Matrix multiplication completed in {:.4f} seconds.\".format(mult_time))\n",
    "print(C)"
   ]
  },
  {
   "cell_type": "code",
   "execution_count": 81,
   "id": "5f45ff27-82ef-46a3-bd4a-8fa6db9f2748",
   "metadata": {},
   "outputs": [
    {
     "name": "stdout",
     "output_type": "stream",
     "text": [
      "Time Taken :  0.00030422210693359375\n",
      "Determinant ;  -5.229256141824326e+49\n"
     ]
    }
   ],
   "source": [
    "start_time = time.time()\n",
    "det_C = np.linalg.det(C)\n",
    "det_time = time.time() - start_time\n",
    "print('Time Taken : ',det_time)\n",
    "print(\"Determinant ; \",det_C) "
   ]
  },
  {
   "cell_type": "code",
   "execution_count": 85,
   "id": "5e23869e-d44f-44dc-93e2-103120498e2a",
   "metadata": {},
   "outputs": [
    {
     "name": "stdout",
     "output_type": "stream",
     "text": [
      "Inverse computed in 0.0311 seconds.\n",
      "[[  0.7580443    0.62140783   0.09241088 ...  -0.29267434   0.20016089\n",
      "   -0.14789495]\n",
      " [ -3.78268206  -1.1976529    1.20811541 ...  -1.99343351  -5.26254532\n",
      "    3.95447261]\n",
      " [ -8.21175     -0.54282206   2.88735856 ...  -4.74321675  -9.68391421\n",
      "    6.65006714]\n",
      " ...\n",
      " [ -0.88307019  -0.66851917   0.93080328 ...  -1.31272889  -1.56695514\n",
      "    1.04263785]\n",
      " [ -8.46674727  -1.63369592   3.14063132 ...  -5.59891323 -10.10789118\n",
      "    6.61989074]\n",
      " [ -6.52823336  -0.60011085   2.76966888 ...  -4.2670965   -8.15299271\n",
      "    6.00208111]]\n"
     ]
    }
   ],
   "source": [
    "if np.isclose(det_C, 0):\n",
    "    print(\"Matrix is singular and cannot be inverted.\")\n",
    "else:\n",
    "    start_time = time.time()\n",
    "    inverse_C = np.linalg.inv(C)\n",
    "    inv_time = time.time() - start_time\n",
    "    print(\"Inverse computed in {:.4f} seconds.\".format(inv_time))\n",
    "    print(inverse_C)"
   ]
  },
  {
   "cell_type": "code",
   "execution_count": null,
   "id": "c73062eb-34f9-415a-849e-1c41c4661e23",
   "metadata": {},
   "outputs": [],
   "source": []
  },
  {
   "cell_type": "code",
   "execution_count": null,
   "id": "40139a7a-d307-4ae4-bcad-841d87fb10d2",
   "metadata": {},
   "outputs": [],
   "source": []
  }
 ],
 "metadata": {
  "kernelspec": {
   "display_name": "Python 3 (ipykernel)",
   "language": "python",
   "name": "python3"
  },
  "language_info": {
   "codemirror_mode": {
    "name": "ipython",
    "version": 3
   },
   "file_extension": ".py",
   "mimetype": "text/x-python",
   "name": "python",
   "nbconvert_exporter": "python",
   "pygments_lexer": "ipython3",
   "version": "3.13.5"
  }
 },
 "nbformat": 4,
 "nbformat_minor": 5
}
